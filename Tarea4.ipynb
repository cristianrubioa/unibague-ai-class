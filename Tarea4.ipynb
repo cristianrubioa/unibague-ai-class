{
 "cells": [
  {
   "cell_type": "markdown",
   "metadata": {},
   "source": [
    "# Plus del ejercicio anterior (Tarea3) \"puesto que resolvía practicamente lo relacionado al ejercico a y b\""
   ]
  },
  {
   "cell_type": "markdown",
   "metadata": {},
   "source": [
    "Tal vez no sea lo más práctico lo realizado en el ejercicio anterior, recapitulando:\n",
    "Tomamos nuestros datos y los entrenamos dos veces (siguiendo la secuencia de -> tabla.png de la Tarea3 o carpeta ima), es decir, primero unos datos, luego otros hasta llegar a la salida.\n",
    "¿Que tal si solo agregando los datos de entrada y salida, sin pasos intermedios obtengo la predicción correspondiente?. Para esto vamos a implemenar otro tipo de red neuronal \"Feed Forward\"."
   ]
  },
  {
   "cell_type": "code",
   "execution_count": 1,
   "metadata": {},
   "outputs": [
    {
     "data": {
      "image/png": "[encoded data removed]",
      "text/plain": [
       "<IPython.core.display.Image object>"
      ]
     },
     "execution_count": 1,
     "metadata": {
      "image/png": {
       "width": 280
      }
     },
     "output_type": "execute_result"
    }
   ],
   "source": [
    "from IPython.display import Image\n",
    "Image(filename='./images/dataset2.png', width=280)"
   ]
  },
  {
   "cell_type": "markdown",
   "metadata": {},
   "source": [
    "### Datos de entrada y salida del dataset2.png"
   ]
  },
  {
   "cell_type": "code",
   "execution_count": 2,
   "metadata": {},
   "outputs": [],
   "source": [
    "import numpy as np\n",
    "\n",
    "# Datos-entrada[C1,C2,C3]\n",
    "X = np.array([[-1, -1,  -1], \n",
    "               [-1, -1,   1], \n",
    "               [-1,  1,  -1], \n",
    "               [-1,  1,   1], \n",
    "               [1,  -1,  -1], \n",
    "               [1,  -1,   1], \n",
    "               [1,   1,  -1], \n",
    "               [1,   1,   1]])\n",
    "\n",
    "# Datos-salida[OUT] -> C AND (C2 OR C3)\n",
    "y = np.array([[-1, -1, -1, 1, 1, 1, 1, 1]]).T\n",
    "\n",
    "# Especificamos que los números aleatorios generados sean exactamente los mismos\n",
    "np.random.seed(1)"
   ]
  },
  {
   "cell_type": "markdown",
   "metadata": {},
   "source": [
    "### Función sigmoide para activación / inicializamos los pesos:"
   ]
  },
  {
   "cell_type": "code",
   "execution_count": 3,
   "metadata": {},
   "outputs": [],
   "source": [
    "# Función sigmoide\n",
    "def nonlin(x,deriv=False):\n",
    "    if(deriv==True):\n",
    "        return x*(1-x)\n",
    "\n",
    "    return 1/(1+np.exp(-x))\n",
    "\n",
    "# Inicializamos los pesos al azar\n",
    "# vamos a dejar valor de media 0\n",
    "# Temenos una matriz de peso para conectar las capas (son 2: entrada y salida)\n",
    "# (3,8) --> tres entradas, 8 datos\n",
    "# (8,1) --> 8 datos, 1 salida\n",
    "syn0 = 2*np.random.random((3,8)) - 1\n",
    "syn1 = 2*np.random.random((8,1)) - 1"
   ]
  },
  {
   "cell_type": "markdown",
   "metadata": {},
   "source": [
    "### Feed Forward (FF)"
   ]
  },
  {
   "cell_type": "code",
   "execution_count": 4,
   "metadata": {},
   "outputs": [
    {
     "name": "stdout",
     "output_type": "stream",
     "text": [
      "Datos predecidos\n",
      "[[9.95909593e-07]\n",
      " [6.22626347e-06]\n",
      " [6.24393645e-06]\n",
      " [9.96956285e-01]\n",
      " [9.97095029e-01]\n",
      " [1.00000000e+00]\n",
      " [1.00000000e+00]\n",
      " [1.00000000e+00]]\n"
     ]
    }
   ],
   "source": [
    "for j in range(60000):\n",
    "\n",
    "    # \"Feed forward (FF)\"\n",
    "    # l0 -> primera capa\n",
    "    # l1 -> segunda capa (capa oculta)\n",
    "    # l2 -> Capa final de la red (hipótesis)\n",
    "    l0 = X\n",
    "    l1 = nonlin(np.dot(l0,syn0))\n",
    "    l2 = nonlin(np.dot(l1,syn1))\n",
    "\n",
    "    # Cantidad que la red neuronal \"perdió\"\n",
    "    # (datos reales-datos predecidos)\n",
    "    l2_error = y - l2\n",
    "         \n",
    "    # Error l2 de la red escalado por la confianza\n",
    "    # ¿Estábamos realmente seguros? si es así, no cambies demasiado.\n",
    "    l2_delta = l2_error*nonlin(l2,deriv=True)\n",
    "\n",
    "    # Error en la capa media (oculta)\n",
    "    l1_error = l2_delta.dot(syn1.T)\n",
    "    \n",
    "    # Error l1 de la red escalada por la confianza\n",
    "    # ¿Estábamos realmente seguros? si es así, no cambies demasiado.\n",
    "    l1_delta = l1_error * nonlin(l1,deriv=True)\n",
    "    \n",
    "    # Actualizamos los pesos\n",
    "    syn1 += l1.T.dot(l2_delta)\n",
    "    syn0 += l0.T.dot(l1_delta)\n",
    "\n",
    "print(\"Datos predecidos\")\n",
    "print(l2)"
   ]
  },
  {
   "cell_type": "markdown",
   "metadata": {},
   "source": [
    "Al parecer podemos distinguir la clase por el valor de la predicción. Los tres primeros valores están en el orden de e-06(07) y los restantes se aproximan a uno.\n",
    "Para obtener algo más parecido a nuestra salida podemos hacer una especie de normalización o barrida (procesamiento de la predicción) de los datos como lo siguiente."
   ]
  },
  {
   "cell_type": "code",
   "execution_count": 5,
   "metadata": {},
   "outputs": [
    {
     "name": "stdout",
     "output_type": "stream",
     "text": [
      "Datos reales\n",
      "[[-1]\n",
      " [-1]\n",
      " [-1]\n",
      " [ 1]\n",
      " [ 1]\n",
      " [ 1]\n",
      " [ 1]\n",
      " [ 1]]\n",
      "\n",
      "\n",
      "Datos predecidos\n",
      "[[-1.]\n",
      " [-1.]\n",
      " [-1.]\n",
      " [ 1.]\n",
      " [ 1.]\n",
      " [ 1.]\n",
      " [ 1.]\n",
      " [ 1.]]\n",
      "\n",
      "\n",
      "Perfecto 👍🏼, Logramos realizar la clasificación.\n"
     ]
    }
   ],
   "source": [
    "# Procesamiento de predicción\n",
    "for x in range(len(l2)):\n",
    "    if l2[x]>0.9:\n",
    "        l2[x] = 1\n",
    "    if l2[x]<0.1:\n",
    "        l2[x] = -1\n",
    "        \n",
    "print(\"Datos reales\") \n",
    "print(y)\n",
    "print(\"\\n\")\n",
    "print(\"Datos predecidos\")\n",
    "print(l2)\n",
    "\n",
    "print(\"\\n\")\n",
    "print(\"Perfecto 👍🏼, Logramos realizar la clasificación.\")"
   ]
  },
  {
   "cell_type": "markdown",
   "metadata": {},
   "source": [
    "**Nota:** No agrego las regiones de desición para no ser redundate (retomar ejercicio anterior \"Tarea3\"), prácticamente obtendriamos un resultado similar a la linea 17.\n",
    "\n",
    "**La idea es mostrar que se puede quizas aliviar esfuerzos utilizando diferentes topologías de una red neuronal.**"
   ]
  },
  {
   "cell_type": "markdown",
   "metadata": {},
   "source": [
    "##  ¿En que otras aplicaciones podría utilizar una red neuronal?"
   ]
  },
  {
   "cell_type": "markdown",
   "metadata": {},
   "source": [
    "Aunque por el momento la cantidad es finita, me es dificil nombrar un sin número de aplicaciones. Por lo tanto algunas de estas son:\n",
    "\n",
    "* Detección de plagas en cultivos\n",
    "* Filtros en señales portadoras de información\n",
    "* Detección de patrones (números, letras ...)\n",
    "* ...\n",
    "* Y en genral todo lo que tiene que ver con **Asociación y clasificación, predicción y optimización.**"
   ]
  }
 ],
 "metadata": {
  "kernelspec": {
   "display_name": "Python 3",
   "language": "python",
   "name": "python3"
  },
  "language_info": {
   "codemirror_mode": {
    "name": "ipython",
    "version": 3
   },
   "file_extension": ".py",
   "mimetype": "text/x-python",
   "name": "python",
   "nbconvert_exporter": "python",
   "pygments_lexer": "ipython3",
   "version": "3.7.6"
  }
 },
 "nbformat": 4,
 "nbformat_minor": 4
}
